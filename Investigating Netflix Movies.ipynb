{
 "cells": [
  {
   "cell_type": "markdown",
   "id": "937acf3c-c077-4ca6-8d90-8f6dd4d13c54",
   "metadata": {
    "collapsed": false,
    "jupyter": {
     "outputs_hidden": false,
     "source_hidden": false
    }
   },
   "source": [
    "<center><img src=\"redpopcorn.jpg\"></center>"
   ]
  },
  {
   "cell_type": "markdown",
   "id": "5962b2cd-17bb-4ec9-b2d5-68537ca26860",
   "metadata": {},
   "source": [
    "**Netflix**! What started in 1997 as a DVD rental service has since exploded into one of the largest entertainment and media companies.\n",
    "\n",
    "Given the large number of movies and series available on the platform, it is a perfect opportunity to flex your exploratory data analysis skills and dive into the entertainment industry.\n",
    "\n",
    "You work for a production company that specializes in nostalgic styles. You want to do some research on movies released in the 1990's. You'll delve into Netflix data and perform exploratory data analysis to better understand this awesome movie decade!\n",
    "\n",
    "You have been supplied with the dataset `netflix_data.csv`, along with the following table detailing the column names and descriptions. Feel free to experiment further after submitting!\n",
    "\n",
    "## The data\n",
    "### **netflix_data.csv**\n",
    "| Column | Description |\n",
    "|--------|-------------|\n",
    "| `show_id` | The ID of the show |\n",
    "| `type` | Type of show |\n",
    "| `title` | Title of the show |\n",
    "| `director` | Director of the show |\n",
    "| `cast` | Cast of the show |\n",
    "| `country` | Country of origin |\n",
    "| `date_added` | Date added to Netflix |\n",
    "| `release_year` | Year of Netflix release |\n",
    "| `duration` | Duration of the show in minutes |\n",
    "| `description` | Description of the show |\n",
    "| `genre` | Show genre |"
   ]
  },
  {
   "cell_type": "code",
   "execution_count": 4,
   "id": "320a3abc-8a36-4b2b-baaf-473325363a4d",
   "metadata": {
    "executionCancelledAt": null,
    "executionTime": 41,
    "lastExecutedAt": 1747165254750,
    "lastExecutedByKernel": "7465dc3a-0e7c-4738-a702-3669b7c34b04",
    "lastScheduledRunId": null,
    "lastSuccessfullyExecutedCode": "# Importing pandas and matplotlib\nimport pandas as pd\nimport matplotlib.pyplot as plt\nimport numpy as np\n\n# Read in the Netflix CSV as a DataFrame\nnetflix_df = pd.read_csv(\"netflix_data.csv\")"
   },
   "outputs": [],
   "source": [
    "# Importing pandas and matplotlib\n",
    "import pandas as pd\n",
    "import matplotlib.pyplot as plt\n",
    "import numpy as np\n",
    "\n",
    "# Read in the Netflix CSV as a DataFrame\n",
    "netflix_df = pd.read_csv(\"netflix_data.csv\")"
   ]
  },
  {
   "cell_type": "code",
   "execution_count": 5,
   "id": "72658473-114f-49eb-bd4e-cc03c710834a",
   "metadata": {
    "executionCancelledAt": null,
    "executionTime": 54,
    "lastExecutedAt": 1747165254804,
    "lastExecutedByKernel": "7465dc3a-0e7c-4738-a702-3669b7c34b04",
    "lastScheduledRunId": null,
    "lastSuccessfullyExecutedCode": "# Start coding here! Use as many cells as you like\n    #What was the most frequent movie duration in the 1990s? \n\nnetflix_df_m = netflix_df[ netflix_df[\"type\"] == \"Movie\"]\nnetflix_df_m = netflix_df_m[ netflix_df_m[\"release_year\"] >= 1990 ]\nnetflix_df_m = netflix_df_m[ netflix_df_m[\"release_year\"] <= 1999]\nfreq = netflix_df_m[\"duration\"].value_counts()\nduration = freq.index[0] #cuz .value_counts() returns the values sorted\n#freq_index = freq[freq == freq_max].index[0]\n#item = netflix_df.iloc[[freq_index]]\n",
    "outputsMetadata": {
     "0": {
      "height": 38,
      "type": "stream"
     }
    }
   },
   "outputs": [],
   "source": [
    "# Start coding here! Use as many cells as you like\n",
    "    #What was the most frequent movie duration in the 1990s? \n",
    "\n",
    "netflix_df_m = netflix_df[ netflix_df[\"type\"] == \"Movie\"]\n",
    "netflix_df_m = netflix_df_m[ netflix_df_m[\"release_year\"] >= 1990 ]\n",
    "netflix_df_m = netflix_df_m[ netflix_df_m[\"release_year\"] <= 1999]\n",
    "freq = netflix_df_m[\"duration\"].value_counts()\n",
    "duration = freq.index[0] #cuz .value_counts() returns the values sorted\n",
    "#freq_index = freq[freq == freq_max].index[0]\n",
    "#item = netflix_df.iloc[[freq_index]]\n"
   ]
  },
  {
   "cell_type": "code",
   "execution_count": 6,
   "id": "77dd255d-c7ee-40f7-909c-a1105b7841d7",
   "metadata": {
    "executionCancelledAt": null,
    "executionTime": 51,
    "lastExecutedAt": 1747165254857,
    "lastExecutedByKernel": "7465dc3a-0e7c-4738-a702-3669b7c34b04",
    "lastScheduledRunId": null,
    "lastSuccessfullyExecutedCode": "#  Count the number of short action movies released in the 1990s\nnetflix_df_m = netflix_df[ netflix_df[\"genre\"] == \"Action\"]\nnetflix_df_m = netflix_df_m[ netflix_df_m[\"release_year\"] >= 1990 ]\nnetflix_df_m = netflix_df_m[ netflix_df_m[\"release_year\"] <= 1999]\nnetflix_df_m = netflix_df_m[ netflix_df[\"duration\"] < 90 ]\n\nshort_movie_count = len(netflix_df_m)\n\n",
    "outputsMetadata": {
     "0": {
      "height": 38,
      "type": "stream"
     }
    }
   },
   "outputs": [],
   "source": [
    "#  Count the number of short action movies released in the 1990s\n",
    "netflix_df_m = netflix_df[ netflix_df[\"genre\"] == \"Action\"]\n",
    "netflix_df_m = netflix_df_m[ netflix_df_m[\"release_year\"] >= 1990 ]\n",
    "netflix_df_m = netflix_df_m[ netflix_df_m[\"release_year\"] <= 1999]\n",
    "netflix_df_m = netflix_df_m[ netflix_df[\"duration\"] < 90 ]\n",
    "\n",
    "short_movie_count = len(netflix_df_m)\n",
    "\n"
   ]
  }
 ],
 "metadata": {
  "colab": {
   "name": "Welcome to DataCamp Workspaces.ipynb",
   "provenance": []
  },
  "editor": "DataLab",
  "kernelspec": {
   "display_name": "Python 3 (ipykernel)",
   "language": "python",
   "name": "python3"
  },
  "language_info": {
   "codemirror_mode": {
    "name": "ipython",
    "version": 3
   },
   "file_extension": ".py",
   "mimetype": "text/x-python",
   "name": "python",
   "nbconvert_exporter": "python",
   "pygments_lexer": "ipython3",
   "version": "3.8.10"
  }
 },
 "nbformat": 4,
 "nbformat_minor": 5
}
